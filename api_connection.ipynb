{
 "cells": [
  {
   "cell_type": "code",
   "execution_count": 40,
   "metadata": {},
   "outputs": [],
   "source": [
    "from flask import Flask, request, jsonify\n",
    "import pandas as pd"
   ]
  },
  {
   "cell_type": "code",
   "execution_count": 41,
   "metadata": {},
   "outputs": [],
   "source": [
    "app = Flask(__name__)\n",
    "app.config['DEBUG'] = False"
   ]
  },
  {
   "cell_type": "code",
   "execution_count": 42,
   "metadata": {},
   "outputs": [],
   "source": [
    "data = pd.read_csv('data/data.csv')"
   ]
  },
  {
   "cell_type": "code",
   "execution_count": 43,
   "metadata": {},
   "outputs": [],
   "source": [
    "data = data.apply(lambda x: x.astype(int))"
   ]
  },
  {
   "cell_type": "code",
   "execution_count": 44,
   "metadata": {},
   "outputs": [],
   "source": [
    "data = pd.DataFrame(data) "
   ]
  },
  {
   "cell_type": "code",
   "execution_count": 45,
   "metadata": {},
   "outputs": [
    {
     "data": {
      "text/html": [
       "<div>\n",
       "<style scoped>\n",
       "    .dataframe tbody tr th:only-of-type {\n",
       "        vertical-align: middle;\n",
       "    }\n",
       "\n",
       "    .dataframe tbody tr th {\n",
       "        vertical-align: top;\n",
       "    }\n",
       "\n",
       "    .dataframe thead th {\n",
       "        text-align: right;\n",
       "    }\n",
       "</style>\n",
       "<table border=\"1\" class=\"dataframe\">\n",
       "  <thead>\n",
       "    <tr style=\"text-align: right;\">\n",
       "      <th></th>\n",
       "      <th>Gender</th>\n",
       "      <th>self_employed</th>\n",
       "      <th>family_history</th>\n",
       "      <th>treatment</th>\n",
       "      <th>Days_Indoors</th>\n",
       "      <th>Growing_Stress</th>\n",
       "      <th>Changes_Habits</th>\n",
       "      <th>Mental_Health_History</th>\n",
       "      <th>Mood_Swings</th>\n",
       "      <th>Coping_Struggles</th>\n",
       "      <th>...</th>\n",
       "      <th>South Africa</th>\n",
       "      <th>Sweden</th>\n",
       "      <th>Switzerland</th>\n",
       "      <th>Thailand</th>\n",
       "      <th>United Kingdom</th>\n",
       "      <th>United States</th>\n",
       "      <th>Business</th>\n",
       "      <th>Corporate</th>\n",
       "      <th>Housewife</th>\n",
       "      <th>Student</th>\n",
       "    </tr>\n",
       "  </thead>\n",
       "  <tbody>\n",
       "    <tr>\n",
       "      <th>0</th>\n",
       "      <td>1</td>\n",
       "      <td>0</td>\n",
       "      <td>1</td>\n",
       "      <td>1</td>\n",
       "      <td>1</td>\n",
       "      <td>0</td>\n",
       "      <td>2</td>\n",
       "      <td>0</td>\n",
       "      <td>1</td>\n",
       "      <td>0</td>\n",
       "      <td>...</td>\n",
       "      <td>0</td>\n",
       "      <td>0</td>\n",
       "      <td>0</td>\n",
       "      <td>0</td>\n",
       "      <td>0</td>\n",
       "      <td>1</td>\n",
       "      <td>0</td>\n",
       "      <td>1</td>\n",
       "      <td>0</td>\n",
       "      <td>0</td>\n",
       "    </tr>\n",
       "    <tr>\n",
       "      <th>1</th>\n",
       "      <td>1</td>\n",
       "      <td>0</td>\n",
       "      <td>1</td>\n",
       "      <td>1</td>\n",
       "      <td>1</td>\n",
       "      <td>0</td>\n",
       "      <td>2</td>\n",
       "      <td>0</td>\n",
       "      <td>1</td>\n",
       "      <td>0</td>\n",
       "      <td>...</td>\n",
       "      <td>0</td>\n",
       "      <td>0</td>\n",
       "      <td>0</td>\n",
       "      <td>0</td>\n",
       "      <td>0</td>\n",
       "      <td>1</td>\n",
       "      <td>0</td>\n",
       "      <td>1</td>\n",
       "      <td>0</td>\n",
       "      <td>0</td>\n",
       "    </tr>\n",
       "    <tr>\n",
       "      <th>2</th>\n",
       "      <td>1</td>\n",
       "      <td>0</td>\n",
       "      <td>0</td>\n",
       "      <td>1</td>\n",
       "      <td>1</td>\n",
       "      <td>0</td>\n",
       "      <td>2</td>\n",
       "      <td>0</td>\n",
       "      <td>1</td>\n",
       "      <td>0</td>\n",
       "      <td>...</td>\n",
       "      <td>0</td>\n",
       "      <td>0</td>\n",
       "      <td>0</td>\n",
       "      <td>0</td>\n",
       "      <td>0</td>\n",
       "      <td>0</td>\n",
       "      <td>0</td>\n",
       "      <td>1</td>\n",
       "      <td>0</td>\n",
       "      <td>0</td>\n",
       "    </tr>\n",
       "    <tr>\n",
       "      <th>3</th>\n",
       "      <td>1</td>\n",
       "      <td>0</td>\n",
       "      <td>1</td>\n",
       "      <td>1</td>\n",
       "      <td>1</td>\n",
       "      <td>0</td>\n",
       "      <td>2</td>\n",
       "      <td>0</td>\n",
       "      <td>1</td>\n",
       "      <td>0</td>\n",
       "      <td>...</td>\n",
       "      <td>0</td>\n",
       "      <td>0</td>\n",
       "      <td>0</td>\n",
       "      <td>0</td>\n",
       "      <td>0</td>\n",
       "      <td>0</td>\n",
       "      <td>0</td>\n",
       "      <td>1</td>\n",
       "      <td>0</td>\n",
       "      <td>0</td>\n",
       "    </tr>\n",
       "    <tr>\n",
       "      <th>4</th>\n",
       "      <td>1</td>\n",
       "      <td>0</td>\n",
       "      <td>0</td>\n",
       "      <td>0</td>\n",
       "      <td>1</td>\n",
       "      <td>0</td>\n",
       "      <td>2</td>\n",
       "      <td>0</td>\n",
       "      <td>1</td>\n",
       "      <td>0</td>\n",
       "      <td>...</td>\n",
       "      <td>0</td>\n",
       "      <td>0</td>\n",
       "      <td>0</td>\n",
       "      <td>0</td>\n",
       "      <td>0</td>\n",
       "      <td>1</td>\n",
       "      <td>0</td>\n",
       "      <td>1</td>\n",
       "      <td>0</td>\n",
       "      <td>0</td>\n",
       "    </tr>\n",
       "  </tbody>\n",
       "</table>\n",
       "<p>5 rows × 53 columns</p>\n",
       "</div>"
      ],
      "text/plain": [
       "   Gender  self_employed  family_history  treatment  Days_Indoors  \\\n",
       "0       1              0               1          1             1   \n",
       "1       1              0               1          1             1   \n",
       "2       1              0               0          1             1   \n",
       "3       1              0               1          1             1   \n",
       "4       1              0               0          0             1   \n",
       "\n",
       "   Growing_Stress  Changes_Habits  Mental_Health_History  Mood_Swings  \\\n",
       "0               0               2                      0            1   \n",
       "1               0               2                      0            1   \n",
       "2               0               2                      0            1   \n",
       "3               0               2                      0            1   \n",
       "4               0               2                      0            1   \n",
       "\n",
       "   Coping_Struggles  ...  South Africa  Sweden  Switzerland  Thailand  \\\n",
       "0                 0  ...             0       0            0         0   \n",
       "1                 0  ...             0       0            0         0   \n",
       "2                 0  ...             0       0            0         0   \n",
       "3                 0  ...             0       0            0         0   \n",
       "4                 0  ...             0       0            0         0   \n",
       "\n",
       "   United Kingdom  United States  Business  Corporate  Housewife  Student  \n",
       "0               0              1         0          1          0        0  \n",
       "1               0              1         0          1          0        0  \n",
       "2               0              0         0          1          0        0  \n",
       "3               0              0         0          1          0        0  \n",
       "4               0              1         0          1          0        0  \n",
       "\n",
       "[5 rows x 53 columns]"
      ]
     },
     "execution_count": 45,
     "metadata": {},
     "output_type": "execute_result"
    }
   ],
   "source": [
    "data.head()"
   ]
  },
  {
   "cell_type": "code",
   "execution_count": 46,
   "metadata": {},
   "outputs": [],
   "source": [
    "data_dict = data.to_dict(orient=\"records\")"
   ]
  },
  {
   "cell_type": "code",
   "execution_count": 47,
   "metadata": {},
   "outputs": [],
   "source": [
    "data_train = pd.read_csv('data/train.csv')"
   ]
  },
  {
   "cell_type": "code",
   "execution_count": 48,
   "metadata": {},
   "outputs": [],
   "source": [
    "data_test = pd.read_csv('data/test.csv')"
   ]
  },
  {
   "cell_type": "code",
   "execution_count": 49,
   "metadata": {},
   "outputs": [
    {
     "data": {
      "text/plain": [
       "229729"
      ]
     },
     "execution_count": 49,
     "metadata": {},
     "output_type": "execute_result"
    }
   ],
   "source": [
    "len(data_train)"
   ]
  },
  {
   "cell_type": "code",
   "execution_count": 50,
   "metadata": {},
   "outputs": [
    {
     "data": {
      "text/plain": [
       "57433"
      ]
     },
     "execution_count": 50,
     "metadata": {},
     "output_type": "execute_result"
    }
   ],
   "source": [
    "len(data_test)"
   ]
  },
  {
   "cell_type": "code",
   "execution_count": 51,
   "metadata": {},
   "outputs": [],
   "source": [
    "import pickle\n",
    "\n",
    "with open('data/rnd_frt.pkl', 'rb') as model_file:\n",
    "    model = pickle.load(model_file)"
   ]
  },
  {
   "cell_type": "code",
   "execution_count": 52,
   "metadata": {},
   "outputs": [
    {
     "name": "stdout",
     "output_type": "stream",
     "text": [
      " * Serving Flask app '__main__'\n",
      " * Debug mode: off\n"
     ]
    },
    {
     "name": "stderr",
     "output_type": "stream",
     "text": [
      "\u001b[31m\u001b[1mWARNING: This is a development server. Do not use it in a production deployment. Use a production WSGI server instead.\u001b[0m\n",
      " * Running on http://127.0.0.1:5001\n",
      "\u001b[33mPress CTRL+C to quit\u001b[0m\n",
      "127.0.0.1 - - [29/Jul/2024 20:06:49] \"GET /data/all HTTP/1.1\" 200 -\n",
      "127.0.0.1 - - [29/Jul/2024 20:07:02] \"GET /data/train HTTP/1.1\" 200 -\n",
      "127.0.0.1 - - [29/Jul/2024 20:07:08] \"GET /data/test HTTP/1.1\" 200 -\n",
      "127.0.0.1 - - [29/Jul/2024 20:07:10] \"GET /data/0 HTTP/1.1\" 200 -\n",
      "127.0.0.1 - - [29/Jul/2024 20:07:11] \"GET /data/test HTTP/1.1\" 200 -\n",
      "127.0.0.1 - - [29/Jul/2024 20:07:12] \"POST /predict HTTP/1.1\" 200 -\n",
      "127.0.0.1 - - [29/Jul/2024 20:07:12] \"GET /query?Changes_Habits=2&Business=1 HTTP/1.1\" 200 -\n"
     ]
    }
   ],
   "source": [
    "@app.route('/', methods=['GET'])\n",
    "def home():\n",
    "  return '<h1>Home</h1>'\n",
    "\n",
    "@app.route('/data/all', methods=['GET'])\n",
    "def all_data():\n",
    "  return jsonify(data.to_dict(orient=\"records\"))\n",
    "\n",
    "@app.route('/data/train', methods=['GET'])\n",
    "def train_data():\n",
    "  return jsonify(data_train.to_dict(orient=\"records\"))\n",
    "\n",
    "@app.route('/data/test', methods=['GET'])\n",
    "def test_data():\n",
    "  return jsonify(data_test.to_dict(orient=\"records\"))\n",
    "\n",
    "@app.route('/data/<int:id>', methods=['GET'])\n",
    "def api_id(id): \n",
    "    return jsonify(data.iloc[id].to_dict())\n",
    "\n",
    "@app.route('/query', methods=['GET'])\n",
    "def get_query():\n",
    "    change = int(request.args[\"Changes_Habits\"])\n",
    "    business = int(request.args[\"Business\"])\n",
    "    results = data[(data[\"Business\"]== business) & (data[\"Changes_Habits\"] == change)] \n",
    "    return jsonify(results.to_dict(orient=\"records\"))\n",
    "\n",
    "@app.route('/predict', methods=['POST'])\n",
    "def get_prediction():\n",
    "    observacion = request.json\n",
    "    columns = data_train.columns\n",
    "    df_observacion = pd.DataFrame([observacion], columns=columns)\n",
    "    prediccion = model.predict(df_observacion)\n",
    "    return jsonify({\"prediccion\": prediccion.tolist()})\n",
    "\n",
    "\n",
    "\n",
    "app.run(port=5001)"
   ]
  }
 ],
 "metadata": {
  "kernelspec": {
   "display_name": "Python 3",
   "language": "python",
   "name": "python3"
  },
  "language_info": {
   "codemirror_mode": {
    "name": "ipython",
    "version": 3
   },
   "file_extension": ".py",
   "mimetype": "text/x-python",
   "name": "python",
   "nbconvert_exporter": "python",
   "pygments_lexer": "ipython3",
   "version": "3.12.1"
  }
 },
 "nbformat": 4,
 "nbformat_minor": 2
}
